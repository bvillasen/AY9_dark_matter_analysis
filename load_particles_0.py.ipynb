{
 "cells": [
  {
   "cell_type": "code",
   "execution_count": 2,
   "metadata": {},
   "outputs": [],
   "source": [
    "import glio\n",
    "import numpy as np\n",
    "import matplotlib.pyplot as plt"
   ]
  },
  {
   "cell_type": "code",
   "execution_count": 10,
   "metadata": {},
   "outputs": [],
   "source": [
    "data_directory = '/home/bruno/Desktop/data/'\n",
    "input_directory = data_directory + 'ay9/128_dm/'"
   ]
  },
  {
   "cell_type": "code",
   "execution_count": 11,
   "metadata": {},
   "outputs": [],
   "source": [
    "def load_particles( input_file ):\n",
    "    print( 'Loading Gadget file:', input_file )\n",
    "    file = glio.GadgetSnapshot( input_file )\n",
    "    file.load()\n",
    "    head = file.header\n",
    "    box_size = head.BoxSize\n",
    "    current_a = head.time\n",
    "    current_z = head.redshift\n",
    "\n",
    "    particle_type = 1\n",
    "    n_particles = head.npart[particle_type]\n",
    "\n",
    "    fields = file.fields\n",
    "    positions = file.pos[particle_type]\n",
    "    mass = file.mass[particle_type]\n",
    "    pos_z, pos_y, pos_x = positions.T\n",
    "\n",
    "    data = {}\n",
    "    data['mass'] = mass\n",
    "    data['pos_x'] = pos_x\n",
    "    data['pos_y'] = pos_y\n",
    "    data['pos_z'] = pos_z\n",
    "    return data\n"
   ]
  },
  {
   "cell_type": "code",
   "execution_count": 17,
   "metadata": {},
   "outputs": [
    {
     "name": "stdout",
     "output_type": "stream",
     "text": [
      "Loading Gadget file: /home/bruno/Desktop/data/ay9/128_dm/snapshot_200\n"
     ]
    }
   ],
   "source": [
    "n_snapshot = 170\n",
    "input_file_name = 'snapshot_200'\n",
    "input_file = input_directory + input_file_name \n",
    "\n",
    "data = load_particles( input_file )"
   ]
  },
  {
   "cell_type": "code",
   "execution_count": 18,
   "metadata": {},
   "outputs": [
    {
     "data": {
      "text/plain": [
       "{'mass': array([4.11684, 4.11684, 4.11684, ..., 4.11684, 4.11684, 4.11684],\n",
       "       dtype=float32),\n",
       " 'pos_x': array([  109.338264,   171.87933 ,  1366.437   , ..., 97783.445   ,\n",
       "        99033.72    , 98679.45    ], dtype=float32),\n",
       " 'pos_y': array([ 518.24274 ,  269.33325 ,  705.8505  , ...,  600.1236  ,\n",
       "        1087.3401  ,   30.082378], dtype=float32),\n",
       " 'pos_z': array([ 135.59586, 1407.1921 , 1274.5061 , ..., 1131.9615 , 1226.9568 ,\n",
       "        1386.1094 ], dtype=float32)}"
      ]
     },
     "execution_count": 18,
     "metadata": {},
     "output_type": "execute_result"
    }
   ],
   "source": [
    "data"
   ]
  },
  {
   "cell_type": "code",
   "execution_count": 19,
   "metadata": {},
   "outputs": [],
   "source": [
    "mass_all = data['mass']\n",
    "pos_x_all = data['pos_x']\n",
    "pos_y_all = data['pos_y']\n",
    "pos_z_all = data['pos_z']\n"
   ]
  },
  {
   "cell_type": "code",
   "execution_count": 20,
   "metadata": {},
   "outputs": [],
   "source": [
    "from ipywidgets import interact, interactive, fixed, interact_manual\n",
    "import ipywidgets as widgets\n",
    "\n",
    "def plot_particles( depth ):\n",
    "    indxs = np.where( pos_z_all < depth)\n",
    "    mass = mass_all[indxs]\n",
    "    pos_x = pos_x_all[indxs]\n",
    "    pos_y = pos_y_all[indxs]\n",
    "    pos_z = pos_z_all[indxs]\n",
    "\n",
    "    plt.scatter( pos_x, pos_y, marker=\"o\", s=0.1)"
   ]
  },
  {
   "cell_type": "code",
   "execution_count": 22,
   "metadata": {},
   "outputs": [
    {
     "data": {
      "application/vnd.jupyter.widget-view+json": {
       "model_id": "98cbcc788a354d9aa5196eb554d78577",
       "version_major": 2,
       "version_minor": 0
      },
      "text/plain": [
       "interactive(children=(IntSlider(value=20000, description='depth', max=60000, min=-20000), Output()), _dom_clas…"
      ]
     },
     "metadata": {},
     "output_type": "display_data"
    }
   ],
   "source": [
    "\n",
    "depth = 1000\n",
    "interact( plot_particles, depth=20000);"
   ]
  },
  {
   "cell_type": "code",
   "execution_count": null,
   "metadata": {},
   "outputs": [],
   "source": []
  }
 ],
 "metadata": {
  "kernelspec": {
   "display_name": "Python 3",
   "language": "python",
   "name": "python3"
  },
  "language_info": {
   "codemirror_mode": {
    "name": "ipython",
    "version": 3
   },
   "file_extension": ".py",
   "mimetype": "text/x-python",
   "name": "python",
   "nbconvert_exporter": "python",
   "pygments_lexer": "ipython3",
   "version": "3.5.2"
  }
 },
 "nbformat": 4,
 "nbformat_minor": 2
}
