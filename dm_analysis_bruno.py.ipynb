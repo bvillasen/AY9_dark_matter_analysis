{
 "cells": [
  {
   "cell_type": "code",
   "execution_count": 3,
   "metadata": {},
   "outputs": [],
   "source": [
    "import glio\n",
    "import numpy as np\n",
    "import matplotlib.pyplot as plt"
   ]
  },
  {
   "cell_type": "code",
   "execution_count": 4,
   "metadata": {},
   "outputs": [],
   "source": [
    "input_directory = 'data/128_dm/'"
   ]
  },
  {
   "cell_type": "code",
   "execution_count": 5,
   "metadata": {},
   "outputs": [],
   "source": [
    "def load_particles_data( n_snapshot, input_directory ):\n",
    "    input_file_name = f'snapshot_{n_snapshot:03}'\n",
    "    input_file = input_directory + input_file_name \n",
    "\n",
    "    print( 'Loading Gadget file:', input_file )\n",
    "    file = glio.GadgetSnapshot( input_file )\n",
    "    file.load()\n",
    "    head = file.header\n",
    "    box_size = head.BoxSize\n",
    "    current_z = head.redshift\n",
    "\n",
    "    particle_type = 1\n",
    "    n_particles = head.npart[particle_type]\n",
    "\n",
    "    fields = file.fields\n",
    "    positions = file.pos[particle_type]\n",
    "    mass = file.mass[particle_type]\n",
    "    positions_all = positions.T\n",
    "    pos_z = positions_all[0]\n",
    "    pos_y = positions_all[1]\n",
    "    pos_x = positions_all[2]\n",
    "    \n",
    "    \n",
    "    return current_z, mass, pos_x, pos_y, pos_z"
   ]
  },
  {
   "cell_type": "code",
   "execution_count": 6,
   "metadata": {},
   "outputs": [],
   "source": [
    "def plot_particles( pos_x_all, pos_y_all, pos_z_all , depth, output_directory, n_snapshot):\n",
    "    indxs = np.where( pos_z_all < depth)\n",
    "    pos_x_image = pos_x_all[indxs]\n",
    "    pos_y_image = pos_y_all[indxs]\n",
    "    fig = plt.figure( )\n",
    "    fig.set_size_inches(20,20)\n",
    "    plt.tight_layout()\n",
    "    axis = plt.gca()\n",
    "    axis.set_xlim(0, 100000)\n",
    "    axis.set_ylim(0, 100000)\n",
    "    fig.axes[0].get_yaxis().set_visible(False)\n",
    "    fig.axes[0].get_xaxis().set_visible(False)\n",
    "    axis.scatter( pos_x_image, pos_y_image, marker=\"o\", s=0.2)\n",
    "    image_name = f'particles_{n_snapshot}.png'\n",
    "    fig.savefig( output_directory + image_name,  pad_inches=0,  bbox_inches='tight'  )\n",
    "    print( \"Saved image: \", output_directory + image_name )"
   ]
  },
  {
   "cell_type": "code",
   "execution_count": null,
   "metadata": {},
   "outputs": [
    {
     "name": "stdout",
     "output_type": "stream",
     "text": [
      "Loading Gadget file: data/128_dm/snapshot_000\n",
      "Saved image:  images/particles_0.png\n",
      "Loading Gadget file: data/128_dm/snapshot_001\n",
      "Saved image:  images/particles_1.png\n",
      "Loading Gadget file: data/128_dm/snapshot_002\n",
      "Saved image:  images/particles_2.png\n",
      "Loading Gadget file: data/128_dm/snapshot_003\n",
      "Saved image:  images/particles_3.png\n",
      "Loading Gadget file: data/128_dm/snapshot_004\n",
      "Saved image:  images/particles_4.png\n",
      "Loading Gadget file: data/128_dm/snapshot_005\n",
      "Saved image:  images/particles_5.png\n",
      "Loading Gadget file: data/128_dm/snapshot_006\n",
      "Saved image:  images/particles_6.png\n",
      "Loading Gadget file: data/128_dm/snapshot_007\n",
      "Saved image:  images/particles_7.png\n",
      "Loading Gadget file: data/128_dm/snapshot_008\n",
      "Saved image:  images/particles_8.png\n",
      "Loading Gadget file: data/128_dm/snapshot_009\n",
      "Saved image:  images/particles_9.png\n",
      "Loading Gadget file: data/128_dm/snapshot_010\n",
      "Saved image:  images/particles_10.png\n",
      "Loading Gadget file: data/128_dm/snapshot_011\n",
      "Saved image:  images/particles_11.png\n",
      "Loading Gadget file: data/128_dm/snapshot_012\n"
     ]
    }
   ],
   "source": [
    "n_snapshot = 0\n",
    "\n",
    "for n_snapshot in range( 201):\n",
    "    current_z, mass, pos_x_all, pos_y_all, pos_z_all = load_particles_data( n_snapshot, input_directory)\n",
    "\n",
    "    output_directory = 'images/'\n",
    "    depth = 5000\n",
    "    plot_particles( pos_x_all, pos_y_all, pos_z_all , depth, output_directory, n_snapshot)\n",
    "    "
   ]
  },
  {
   "cell_type": "code",
   "execution_count": null,
   "metadata": {},
   "outputs": [],
   "source": []
  },
  {
   "cell_type": "code",
   "execution_count": null,
   "metadata": {},
   "outputs": [],
   "source": []
  },
  {
   "cell_type": "code",
   "execution_count": null,
   "metadata": {},
   "outputs": [],
   "source": []
  }
 ],
 "metadata": {
  "kernelspec": {
   "display_name": "Python 3",
   "language": "python",
   "name": "python3"
  },
  "language_info": {
   "codemirror_mode": {
    "name": "ipython",
    "version": 3
   },
   "file_extension": ".py",
   "mimetype": "text/x-python",
   "name": "python",
   "nbconvert_exporter": "python",
   "pygments_lexer": "ipython3",
   "version": "3.7.1"
  }
 },
 "nbformat": 4,
 "nbformat_minor": 2
}
